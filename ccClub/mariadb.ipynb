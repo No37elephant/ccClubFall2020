{
 "cells": [
  {
   "cell_type": "markdown",
   "metadata": {},
   "source": [
    "Those as follow are good references for learning database/python interfaces. <br />\n",
    "https://www.datacamp.com/community/tutorials/mysql-python <br />\n",
    "https://www.techonthenet.com/mariadb/"
   ]
  },
  {
   "cell_type": "code",
   "execution_count": 3,
   "metadata": {},
   "outputs": [],
   "source": [
    "import pandas\n",
    "import mariadb\n",
    "import sys\n",
    "import numpy as np"
   ]
  },
  {
   "cell_type": "code",
   "execution_count": 4,
   "metadata": {},
   "outputs": [],
   "source": [
    "# connect to mariadb server, it is optional to set up db. One can \n",
    "# create new one or modify existing one. \n",
    "# using the command of \"mysql -u root -p -h localhost\" to log in mariadb in your terminal\n",
    "\n",
    "try:\n",
    "    conn = mariadb.connect(\n",
    "        host=\"localhost\",\n",
    "        user=\"root\", \n",
    "        passwd=\"56691003\")\n",
    "except mariadb.Error as e:\n",
    "    print(f\"Error connecting to MariaDB Platform: {e}\")\n",
    "    sys.exit(1)\n",
    "    \n",
    "# create interface between python and mariadb server using cursor\n",
    "\n",
    "cur = conn.cursor()\n",
    "\n",
    "\n",
    "# after the connection, we can use python code to constrct or modify maria databases\n",
    "# by usnig .execute()\n",
    "# One can refer to https://www.techonthenet.com/mariadb/index.php for sql commands.\n",
    "# Using the command of \"show databases; \" to check the existence of databases. \n",
    "# Please do not forget the ';'.\n",
    "\n",
    "cur.execute(\"create database if not exists test_db \\\n",
    "             character set = 'utf8mb4' \\\n",
    "             collate = 'utf8mb4_general_ci'\")\n",
    "\n",
    "#import csv files using pandas\n",
    "\n",
    "df = pandas.read_csv(\"extracted_geoinfo.csv\", sep=',', index_col = 0) \n",
    "df.drop('crawl_result', axis=1, inplace=True)\n",
    "df['ave_price'].replace(np.nan, 0, inplace=True)\n",
    "\n",
    "# create table in your db, for example test_db in this case\n",
    "# using the commands of \"use database_name; (you need to specifiy the name)\" to log in the database.\n",
    "# then, using the command of \"describe table_name\" to see tables in the related database\n",
    "\n",
    "\n",
    "table_name = 'test_db.test_table'\n",
    "cur.execute(\"create or replace table test_db.test_table \\\n",
    "            (empty_var text not null);\") \n",
    "\n",
    "# create column in table, namely test_table here\n",
    "cur.execute(\"alter table test_db.test_table \\\n",
    "                add name text not null, \\\n",
    "                add rating float not null,\\\n",
    "                add ave_price float not null,\\\n",
    "                add address text not null,\\\n",
    "                add url text not null,\\\n",
    "                add tel text not null,\\\n",
    "                add lat_lng text not null,\\\n",
    "                add place_id text not null;\")\n",
    "\n",
    "\n",
    "    \n",
    "cur.execute(f'alter table {table_name} drop column empty_var')\n",
    "# add data into corresponding columns in the created table\n",
    "\n",
    "row_num = df.shape[0]\n",
    "table_name = 'test_db.test_table'\n",
    "\n",
    "for n in range(row_num):\n",
    "    lst = list(df.iloc[n,:].astype('str'))\n",
    "    lst = ['\\\"' + n + '\\\"' for n in lst]\n",
    "    \n",
    "    cur.execute(\"insert into {table_name} ({columns})values ({values})\".format(\n",
    "                table_name = table_name, \n",
    "                columns = ', '.join(list(df.columns)),  \n",
    "                values = ', '.join(lst)))\n",
    "\n",
    "# finally using the commend of select * from table_name to see your input data, \n",
    "# after successfully executing conn.commit()\n",
    "conn.commit()\n",
    "\n",
    "\n",
    "cur.close()"
   ]
  },
  {
   "cell_type": "code",
   "execution_count": null,
   "metadata": {},
   "outputs": [],
   "source": [
    "cur.close()"
   ]
  },
  {
   "cell_type": "code",
   "execution_count": null,
   "metadata": {},
   "outputs": [],
   "source": [
    "df = pandas.read_csv(\"extracted_geoinfo.csv\", sep=',', index_col = 0)"
   ]
  },
  {
   "cell_type": "code",
   "execution_count": null,
   "metadata": {},
   "outputs": [],
   "source": [
    "import json\n",
    "def extract_lat(string):\n",
    "    dct = json.loads(string.replace(\"\\'\", '\\\"'))\n",
    "    lat = dct['candidates'][0]['geometry']['location']['lat']\n",
    "    return lat\n",
    "\n",
    "def extract_lng(string):\n",
    "    dct = json.loads(string.replace(\"\\'\", '\\\"'))\n",
    "    lng = dct['candidates'][0]['geometry']['location']['lng']\n",
    "    return lng"
   ]
  },
  {
   "cell_type": "code",
   "execution_count": null,
   "metadata": {},
   "outputs": [],
   "source": [
    "try:\n",
    "    conn = mariadb.connect(\n",
    "        host=\"localhost\",\n",
    "        user=\"root\", \n",
    "        passwd=\"56691003\")\n",
    "except mariadb.Error as e:\n",
    "    print(f\"Error connecting to MariaDB Platform: {e}\")\n",
    "    sys.exit(1)\n",
    "\n",
    "    \n",
    "cur = conn.cursor()"
   ]
  },
  {
   "cell_type": "code",
   "execution_count": null,
   "metadata": {},
   "outputs": [],
   "source": [
    "cur.execute('use test_db;')"
   ]
  },
  {
   "cell_type": "code",
   "execution_count": null,
   "metadata": {},
   "outputs": [],
   "source": [
    "cur.execute('select lat, lng from test_table')\n",
    "min([(haversine.haversine((lat, lng), user), lat, lng) for lat, lng in cur])"
   ]
  },
  {
   "cell_type": "code",
   "execution_count": null,
   "metadata": {},
   "outputs": [],
   "source": [
    "import haversine"
   ]
  },
  {
   "cell_type": "code",
   "execution_count": null,
   "metadata": {},
   "outputs": [],
   "source": [
    "\"insert into {table_name} ({columns})values ({values})\".format(\n",
    "                table_name = table_name, \n",
    "                columns = ', '.join(list(df.columns)),  \n",
    "                values = ', '.join(lst))"
   ]
  },
  {
   "cell_type": "code",
   "execution_count": null,
   "metadata": {},
   "outputs": [],
   "source": [
    "df = pandas.read_csv('extracted_geoinfo.csv', index_col=0)\n",
    "df['crawl_result'] = df['crawl_result'].apply(add_sign)"
   ]
  },
  {
   "cell_type": "code",
   "execution_count": null,
   "metadata": {},
   "outputs": [],
   "source": [
    "print(df['crawl_result'].iloc[1])"
   ]
  },
  {
   "cell_type": "code",
   "execution_count": null,
   "metadata": {},
   "outputs": [],
   "source": [
    "def add_sign(string):\n",
    "    string = \"\\'\"+string+\"\\'\"\n",
    "    return string"
   ]
  },
  {
   "cell_type": "code",
   "execution_count": null,
   "metadata": {},
   "outputs": [],
   "source": [
    "add_sign('x')"
   ]
  },
  {
   "cell_type": "code",
   "execution_count": null,
   "metadata": {},
   "outputs": [],
   "source": [
    "df.drop('crawl_result', axis=1, inplace=True)"
   ]
  },
  {
   "cell_type": "code",
   "execution_count": 13,
   "metadata": {
    "scrolled": false
   },
   "outputs": [],
   "source": [
    "import numpy as np\n",
    "df['ave_price'].replace(np.nan, 0, inplace=True)"
   ]
  },
  {
   "cell_type": "code",
   "execution_count": 14,
   "metadata": {},
   "outputs": [
    {
     "data": {
      "text/plain": [
       "0       300.0\n",
       "1      1500.0\n",
       "2       230.0\n",
       "3      1500.0\n",
       "4       600.0\n",
       "5      1000.0\n",
       "6      1200.0\n",
       "7       800.0\n",
       "8      1000.0\n",
       "9       268.0\n",
       "10      500.0\n",
       "11     1200.0\n",
       "12     1800.0\n",
       "13      150.0\n",
       "14      330.0\n",
       "15     1500.0\n",
       "16      300.0\n",
       "17      800.0\n",
       "18      150.0\n",
       "19      250.0\n",
       "20      300.0\n",
       "21      600.0\n",
       "22     1000.0\n",
       "23      500.0\n",
       "24      500.0\n",
       "25     1200.0\n",
       "26     1210.0\n",
       "27      300.0\n",
       "28      300.0\n",
       "29      600.0\n",
       "        ...  \n",
       "352     800.0\n",
       "353     500.0\n",
       "354    1200.0\n",
       "355     250.0\n",
       "356     600.0\n",
       "357     350.0\n",
       "358     600.0\n",
       "359    1200.0\n",
       "360     600.0\n",
       "361     150.0\n",
       "362     150.0\n",
       "363     500.0\n",
       "364    1000.0\n",
       "365     250.0\n",
       "366     500.0\n",
       "367    1000.0\n",
       "368     700.0\n",
       "369     120.0\n",
       "370     600.0\n",
       "371     600.0\n",
       "372     300.0\n",
       "373     600.0\n",
       "374     600.0\n",
       "375     600.0\n",
       "376    1200.0\n",
       "377     600.0\n",
       "378     600.0\n",
       "379    1200.0\n",
       "380     600.0\n",
       "381    1200.0\n",
       "Name: ave_price, Length: 382, dtype: float64"
      ]
     },
     "execution_count": 14,
     "metadata": {},
     "output_type": "execute_result"
    }
   ],
   "source": [
    "df['ave_price']"
   ]
  },
  {
   "cell_type": "code",
   "execution_count": null,
   "metadata": {},
   "outputs": [],
   "source": []
  }
 ],
 "metadata": {
  "kernelspec": {
   "display_name": "Python 3",
   "language": "python",
   "name": "python3"
  },
  "language_info": {
   "codemirror_mode": {
    "name": "ipython",
    "version": 3
   },
   "file_extension": ".py",
   "mimetype": "text/x-python",
   "name": "python",
   "nbconvert_exporter": "python",
   "pygments_lexer": "ipython3",
   "version": "3.8.5"
  }
 },
 "nbformat": 4,
 "nbformat_minor": 2
}
