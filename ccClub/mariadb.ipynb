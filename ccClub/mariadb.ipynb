{
 "cells": [
  {
   "cell_type": "markdown",
   "metadata": {},
   "source": [
    "Those as follow are good references for learning database/python interfaces. <br />\n",
    "https://www.datacamp.com/community/tutorials/mysql-python <br />\n",
    "https://www.techonthenet.com/mariadb/"
   ]
  },
  {
   "cell_type": "code",
   "execution_count": 2,
   "metadata": {},
   "outputs": [],
   "source": [
    "import pandas\n",
    "import mariadb\n",
    "import sys"
   ]
  },
  {
   "cell_type": "code",
   "execution_count": 3,
   "metadata": {},
   "outputs": [],
   "source": [
    "# connect to mariadb server, it is optional to set up db. One can \n",
    "# create new one or modify existing one. \n",
    "# using the command of \"mysql -u root -p -h localhost\" to log in mariadb in your terminal\n",
    "\n",
    "try:\n",
    "    conn = mariadb.connect(\n",
    "        host=\"localhost\",\n",
    "        user=\"root\", \n",
    "        passwd=\"56691003\")\n",
    "except mariadb.Error as e:\n",
    "    print(f\"Error connecting to MariaDB Platform: {e}\")\n",
    "    sys.exit(1)\n",
    "    \n",
    "# create interface between python and mariadb server using cursor\n",
    "\n",
    "cur = conn.cursor()\n",
    "\n",
    "\n",
    "# after the connection, we can use python code to constrct or modify maria databases\n",
    "# by usnig .execute()\n",
    "# One can refer to https://www.techonthenet.com/mariadb/index.php for sql commands.\n",
    "# Using the command of \"show databases; \" to check the existence of databases. \n",
    "# Please do not forget the ';'.\n",
    "\n",
    "cur.execute(\"create database if not exists test_db \\\n",
    "             character set = 'utf8mb4' \\\n",
    "             collate = 'utf8mb4_general_ci'\")\n",
    "\n",
    "#import csv files using pandas\n",
    "\n",
    "df = pandas.read_csv(\"aftergoogle.csv\", sep=',', index_col = 0) \n",
    "\n",
    "\n",
    "# create table in your db, for example test_db in this case\n",
    "# using the commands of \"use database_name; (you need to specifiy the name)\" to log in the database.\n",
    "# then, using the command of \"describe table_name\" to see tables in the related database\n",
    "\n",
    "\n",
    "table_name = 'test_db.test_table'\n",
    "cur.execute(\"create or replace table test_db.test_table \\\n",
    "            (empty_var text not null);\") \n",
    "\n",
    "# create column in table, namely test_table here\n",
    "for column in df:\n",
    "    cur.execute(f\"alter table test_db.test_table \\\n",
    "                add {column} text not null;\")\n",
    "\n",
    "\n",
    "    \n",
    "cur.execute(f'alter table {table_name} drop column empty_var')\n",
    "# add data into corresponding columns in the created table\n",
    "\n",
    "row_num = df.shape[0]\n",
    "table_name = 'test_db.test_table'\n",
    "\n",
    "for n in range(row_num):\n",
    "    lst = list(df.iloc[1,:].astype('str'))\n",
    "    lst = ['\\\"' + n + '\\\"' for n in lst]\n",
    "    \n",
    "    cur.execute(\"insert into {table_name} ({columns})values ({values})\".format(\n",
    "                table_name = table_name, \n",
    "                columns = ', '.join(list(df.columns)),  \n",
    "                values = ', '.join(lst)))\n",
    "\n",
    "# finally using the commend of select * from table_name to see your input data, \n",
    "# after successfully executing conn.commit()\n",
    "conn.commit()\n",
    "\n",
    "\n",
    "cur.close()"
   ]
  }
 ],
 "metadata": {
  "kernelspec": {
   "display_name": "Python 3",
   "language": "python",
   "name": "python3"
  },
  "language_info": {
   "codemirror_mode": {
    "name": "ipython",
    "version": 3
   },
   "file_extension": ".py",
   "mimetype": "text/x-python",
   "name": "python",
   "nbconvert_exporter": "python",
   "pygments_lexer": "ipython3",
   "version": "3.7.3"
  }
 },
 "nbformat": 4,
 "nbformat_minor": 2
}
