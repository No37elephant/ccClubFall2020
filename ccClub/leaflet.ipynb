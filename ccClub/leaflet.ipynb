{
 "cells": [
  {
   "cell_type": "code",
   "execution_count": 2,
   "metadata": {},
   "outputs": [
    {
     "data": {
      "text/html": [
       "\n",
       "\n",
       "<html>\n",
       "    <head>\n",
       "        <title>Quick Start - Leaflet</title>\n",
       "        <meta charset=\"utf-8\" />\n",
       "        <meta name=\"viewport\" content=\"width=device-width, initial-scale=1.0\">\n",
       "        <link rel=\"shortcut icon\" type=\"image/x-icon\" href=\"docs/images/favicon.ico\" />\n",
       "        <link rel=\"stylesheet\" href=\"https://unpkg.com/leaflet@1.7.1/dist/leaflet.css\" integrity=\"sha512-xodZBNTC5n17Xt2atTPuE1HxjVMSvLVW9ocqUKLsCC5CXdbqCmblAshOMAS6/keqq/sMZMZ19scR4PsZChSR7A==\" crossorigin=\"\"/>\n",
       "        <script src=\"https://unpkg.com/leaflet@1.7.1/dist/leaflet.js\" integrity=\"sha512-XQoYMqMTK8LvdxXYG3nZ448hOEQiglfqkJs1NOQV44cWnUrBc8PkAOcXy20w0vlaXaVUearIOBhiXZ5V3ynxwA==\" crossorigin=\"\"></script>\n",
       "    </head>\n",
       "    <body>\n",
       "        <div id=\"mapid\" style=\"width: 500px; height: 500px;\"></div>\n",
       "        <script>\n",
       "            var mymap = L.map('mapid').fitWorld(); \n",
       "            L.tileLayer('https://api.mapbox.com/styles/v1/{id}/tiles/{tileSize}/{z}/{x}/{y}?access_token={accessToken}', \n",
       "                        {maxZoom: 16, \n",
       "                         attribution: 'Map data &copy; <a href=\"https://www.openstreetmap.org/\">OpenStreetMap</a> contributors, '+'<a href=\"https://creativecommons.org/licenses/by-sa/2.0/\">CC-BY-SA</a>, ' +'Imagery © <a href=\"https://www.mapbox.com/\">Mapbox</a>', \n",
       "                         id: 'mapbox/streets-v11',\n",
       "                         tileSize: 512,\n",
       "                         zoomOffset: -1,\n",
       "                         accessToken:'pk.eyJ1Ijoic2NsaW4xOTkxIiwiYSI6ImNraTMxeTZhNzBnY3cycW81YWVhaDFtamQifQ.EjZNLHDO-jg4H9iMORxZ5A'}).addTo(mymap);\n",
       "\n",
       "            function onLocationFound(e){\n",
       "                var radius = e.accuracy;\n",
       "\n",
       "                L.marker(e.latlng).addTo(mymap).bindPopup(\"You are within \" + radius + \" meters from this point.\").openPopup();\n",
       "                \n",
       "                L.circle(e.latlng, radius/3).addTo(mymap);\n",
       "            }\n",
       "            \n",
       "\n",
       "\n",
       "            function onLocationError(e) {\n",
       "                alert(e.message);\n",
       "            }\n",
       "            \n",
       "            mymap.on('locationfound', onLocationFound);\n",
       "            mymap.on('locationerror', onLocationError);\n",
       "            mymap.locate({setView: true, watch: true});\n",
       "            \n",
       "        </script>\n",
       "    </body>\n",
       "</html>\n"
      ],
      "text/plain": [
       "<IPython.core.display.HTML object>"
      ]
     },
     "metadata": {},
     "output_type": "display_data"
    }
   ],
   "source": [
    "%%HTML\n",
    "\n",
    "\n",
    "<html>\n",
    "    <head>\n",
    "        <title>Quick Start - Leaflet</title>\n",
    "        <meta charset=\"utf-8\" />\n",
    "        <meta name=\"viewport\" content=\"width=device-width, initial-scale=1.0\">\n",
    "        <link rel=\"shortcut icon\" type=\"image/x-icon\" href=\"docs/images/favicon.ico\" />\n",
    "        <link rel=\"stylesheet\" href=\"https://unpkg.com/leaflet@1.7.1/dist/leaflet.css\" integrity=\"sha512-xodZBNTC5n17Xt2atTPuE1HxjVMSvLVW9ocqUKLsCC5CXdbqCmblAshOMAS6/keqq/sMZMZ19scR4PsZChSR7A==\" crossorigin=\"\"/>\n",
    "        <script src=\"https://unpkg.com/leaflet@1.7.1/dist/leaflet.js\" integrity=\"sha512-XQoYMqMTK8LvdxXYG3nZ448hOEQiglfqkJs1NOQV44cWnUrBc8PkAOcXy20w0vlaXaVUearIOBhiXZ5V3ynxwA==\" crossorigin=\"\"></script>\n",
    "    </head>\n",
    "    <body>\n",
    "        <div id=\"mapid\" style=\"width: 500px; height: 500px;\"></div>\n",
    "        <script>\n",
    "            var mymap = L.map('mapid').fitWorld(); \n",
    "            L.tileLayer('https://api.mapbox.com/styles/v1/{id}/tiles/{tileSize}/{z}/{x}/{y}?access_token={accessToken}', \n",
    "                        {maxZoom: 16, \n",
    "                         attribution: 'Map data &copy; <a href=\"https://www.openstreetmap.org/\">OpenStreetMap</a> contributors, '+'<a href=\"https://creativecommons.org/licenses/by-sa/2.0/\">CC-BY-SA</a>, ' +'Imagery © <a href=\"https://www.mapbox.com/\">Mapbox</a>', \n",
    "                         id: 'mapbox/streets-v11',\n",
    "                         tileSize: 512,\n",
    "                         zoomOffset: -1,\n",
    "                         accessToken:'pk.eyJ1Ijoic2NsaW4xOTkxIiwiYSI6ImNraTMxeTZhNzBnY3cycW81YWVhaDFtamQifQ.EjZNLHDO-jg4H9iMORxZ5A'}).addTo(mymap);\n",
    "\n",
    "            function onLocationFound(e){\n",
    "                var radius = e.accuracy;\n",
    "\n",
    "                L.marker(e.latlng).addTo(mymap).bindPopup(\"You are within \" + radius + \" meters from this point.\").openPopup();\n",
    "                \n",
    "                L.circle(e.latlng, radius/3).addTo(mymap);\n",
    "            }\n",
    "            \n",
    "\n",
    "\n",
    "            function onLocationError(e) {\n",
    "                alert(e.message);\n",
    "            }\n",
    "            \n",
    "            mymap.on('locationfound', onLocationFound);\n",
    "            mymap.on('locationerror', onLocationError);\n",
    "            mymap.locate({setView: true, watch: true});\n",
    "            \n",
    "        </script>\n",
    "    </body>\n",
    "</html>"
   ]
  },
  {
   "cell_type": "code",
   "execution_count": null,
   "metadata": {},
   "outputs": [],
   "source": []
  }
 ],
 "metadata": {
  "kernelspec": {
   "display_name": "Python 3",
   "language": "python",
   "name": "python3"
  },
  "language_info": {
   "codemirror_mode": {
    "name": "ipython",
    "version": 3
   },
   "file_extension": ".py",
   "mimetype": "text/x-python",
   "name": "python",
   "nbconvert_exporter": "python",
   "pygments_lexer": "ipython3",
   "version": "3.7.3"
  }
 },
 "nbformat": 4,
 "nbformat_minor": 2
}
